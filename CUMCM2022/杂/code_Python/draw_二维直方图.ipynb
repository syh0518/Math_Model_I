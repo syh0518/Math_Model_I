{
 "cells": [
  {
   "cell_type": "code",
   "execution_count": null,
   "metadata": {},
   "outputs": [],
   "source": [
    "# -*- coding: utf-8 -*- \n",
    "import numpy as np\n",
    "import pandas as pd\n",
    "import matplotlib as mpl\n",
    "%matplotlib inline \n",
    "import matplotlib.pyplot as plt\n",
    "from matplotlib import colors\n",
    "import math\n",
    "from sklearn.preprocessing import StandardScaler\n",
    "from sklearn.model_selection import train_test_split\n",
    "from sklearn.svm import SVC\n",
    "from sklearn import neural_network\n",
    "from xgboost import XGBClassifier\n",
    "from sklearn.tree import DecisionTreeClassifier\n",
    "from sklearn.ensemble import RandomForestClassifier, RandomForestRegressor\n",
    "from sklearn.metrics import accuracy_score, r2_score\n",
    "from sklearn import metrics"
   ]
  },
  {
   "cell_type": "code",
   "execution_count": null,
   "metadata": {},
   "outputs": [],
   "source": [
    "def draw_hist_2D(ax,Y_pre,Y,title): # h-2d绘制\n",
    "    train_r2 = abs(r2_score(Y, Y_pre) )\n",
    "    RMSE = (metrics.mean_squared_error(Y,Y_pre)**0.5)\n",
    "    c = ax.hist2d(Y,Y_pre, bins=5, cmap='YlGnBu',norm = colors.LogNorm())\n",
    "    \n",
    "    ax.plot(Y,Y,c='#a61b29',label='y=x')\n",
    "    ax.set_title(title+'R=%.3f RMSE=%.3f' % (train_r2**0.5,RMSE),loc='left',fontsize =15,fontweight='heavy')\n",
    "    ax.set_ylim(0,max(Y))\n",
    "    ax.set_xlim(0,max(Y))\n",
    "    ax.set_xlabel('True Value ')\n",
    "    ax.set_ylabel('Predicted Value')\n",
    "    ##实际倾向率\n",
    "    variance = np.var(Y, ddof=1)         # 计算方差，doff为贝塞尔（无偏估计）校正系数\n",
    "    covariance = np.cov(Y, Y_pre)[0][1]  # 计算协方差\n",
    "    w = covariance / variance\n",
    "    b = np.mean(Y_pre) - w * np.mean(Y)\n",
    "    y_line = w * Y+ b\n",
    "    if b<0:\n",
    "        ax.plot(Y, y_line, c='#15559a',label='y={}x{}'.format(round(w,4),round(b,4)))\n",
    "    else:\n",
    "        ax.plot(Y, y_line, c='#15559a',label='y={}x+{}'.format(round(w,4),round(b,4)))\n",
    "    ax.legend(fontsize = 15)\n",
    "    return c"
   ]
  },
  {
   "cell_type": "code",
   "execution_count": null,
   "metadata": {},
   "outputs": [],
   "source": [
    "# 绘图\n",
    "mpl.rcParams.update(\n",
    "    {'font.family': 'sans-serif',            #设置字体样式\n",
    "    'font.size':16,\n",
    "    'font.sans-serif': ['SimHei'],          #使中文正常显示\n",
    "    'axes.labelsize': 10})          \n",
    "plt.rcParams['axes.unicode_minus'] = False   #用来正常显示负号"
   ]
  }
 ],
 "metadata": {
  "kernelspec": {
   "display_name": "Python 3.10.0 64-bit",
   "language": "python",
   "name": "python3"
  },
  "language_info": {
   "name": "python",
   "version": "3.10.0"
  },
  "orig_nbformat": 4,
  "vscode": {
   "interpreter": {
    "hash": "0c2aa4e111be9f97874af055427fdbfdb1a594a6a2dc65ed2b2d4437de81f5e8"
   }
  }
 },
 "nbformat": 4,
 "nbformat_minor": 2
}
