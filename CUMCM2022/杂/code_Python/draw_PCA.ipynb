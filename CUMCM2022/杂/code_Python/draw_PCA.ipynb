{
 "cells": [
  {
   "cell_type": "code",
   "execution_count": null,
   "metadata": {},
   "outputs": [],
   "source": [
    "# -*- coding: utf-8 -*- \n",
    "import numpy as np\n",
    "import pandas as pd\n",
    "import matplotlib.pyplot as plt\n",
    "import matplotlib as mpl\n",
    "import seaborn as sn\n",
    "from sklearn.cluster import KMeans\n",
    "from scipy.spatial.distance import cdist\n",
    "from sklearn.metrics import calinski_harabasz_score, silhouette_samples, silhouette_score\n",
    "from sklearn.preprocessing import StandardScaler,scale\n",
    "from sklearn.decomposition import PCA\n",
    "# 绘图\n",
    "plt.rcParams['font.sans-serif']=['SimHei']  #用来显示中文标签\n",
    "plt.rcParams['axes.unicode_minus']=False    #用来正常显示负号"
   ]
  },
  {
   "cell_type": "code",
   "execution_count": null,
   "metadata": {},
   "outputs": [],
   "source": [
    "# X为需降维的列\n",
    "# PCA降维 需对数据进行标准化\n",
    "scaler = StandardScaler()\n",
    "pca = PCA()\n",
    "X_new = scaler.fit_transform(X)\n",
    "data_temp_pca = pca.fit_transform(X_new)\n",
    "exp_var = pca.explained_variance_             # 输出特征根\n",
    "exp_var_ratio = pca.explained_variance_ratio_ # 输出解释方差比\n",
    "comp = pca.components_                        # 输出主成分\n",
    "\n",
    "plt.plot(pca.explained_variance_ratio_, 'o-')\n",
    "plt.xlabel('Principal Component')\n",
    "plt.ylabel('Proportion of Variance Explained')\n",
    "plt.title('PVE')"
   ]
  },
  {
   "cell_type": "code",
   "execution_count": null,
   "metadata": {},
   "outputs": [],
   "source": [
    "# 根据结果, 8个成分累计贡献率在85%\n",
    "plt.plot(exp_var_ratio.cumsum(), 'o-')\n",
    "plt.xlabel('Principal Component')\n",
    "plt.ylabel('Cumulative Proportion of Variance Explained')\n",
    "plt.axhline(0.85, color='k', linestyle='--', linewidth=1)\n",
    "plt.title('Cumulative PVE')"
   ]
  }
 ],
 "metadata": {
  "kernelspec": {
   "display_name": "Python 3.10.0 64-bit",
   "language": "python",
   "name": "python3"
  },
  "language_info": {
   "name": "python",
   "version": "3.10.0"
  },
  "orig_nbformat": 4,
  "vscode": {
   "interpreter": {
    "hash": "0c2aa4e111be9f97874af055427fdbfdb1a594a6a2dc65ed2b2d4437de81f5e8"
   }
  }
 },
 "nbformat": 4,
 "nbformat_minor": 2
}
