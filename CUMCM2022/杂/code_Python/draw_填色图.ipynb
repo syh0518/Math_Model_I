{
 "cells": [
  {
   "cell_type": "code",
   "execution_count": null,
   "metadata": {},
   "outputs": [],
   "source": [
    "# -*- coding: utf-8 -*- \n",
    "import numpy as np\n",
    "import pandas as pd\n",
    "import matplotlib.pyplot as plt\n",
    "import matplotlib as mpl\n",
    "from scipy.interpolate import Rbf"
   ]
  },
  {
   "cell_type": "code",
   "execution_count": null,
   "metadata": {},
   "outputs": [],
   "source": [
    "def contour_draw(SX, SY, var_inter_val):  #等高线绘制\n",
    "    \"\"\"\n",
    "    -SX:空间插值后的横坐标 二维矩阵\n",
    "    -SY:-----------纵坐标---------\n",
    "    -var_inter:插值后的变量 二维矩阵\n",
    "    \"\"\"\n",
    "    contour = plt.contour(SX,SY,var_inter_val, linewidths=1.2, alpha=0.8)\n",
    "    plt.clabel(contour, fontsize=10)\n",
    "    plt.xticks([])\n",
    "    plt.yticks([])\n",
    "    plt.legend()"
   ]
  },
  {
   "cell_type": "code",
   "execution_count": null,
   "metadata": {},
   "outputs": [],
   "source": [
    "def contourf_draw(var_inter_val, SX, SY):\n",
    "    plt.figure(figsize=(10,7))\n",
    "    C = plt.contourf(SX,SY,var_inter_val, cmap='YlOrBr', levels = [0, 1, 2, 3,4,5]) #可变换levels\n",
    "    plt.colorbar(C)\n",
    "    plt.xticks([])\n",
    "    plt.yticks([])"
   ]
  },
  {
   "cell_type": "code",
   "execution_count": null,
   "metadata": {},
   "outputs": [],
   "source": [
    "# 主函数\n",
    "sx = np.linspace(x.min(),x.max(),319)  #x、y为横纵方向的点坐标\n",
    "sy = np.linspace(y.min(),y.max(),319)\n",
    "SX,SY = np.meshgrid(sx,sy)"
   ]
  },
  {
   "cell_type": "code",
   "execution_count": null,
   "metadata": {},
   "outputs": [],
   "source": [
    "# 绘图\n",
    "mpl.rcParams.update(\n",
    "    {'font.family': 'sans-serif',            #设置字体样式\n",
    "    'font.size':16,\n",
    "    'font.sans-serif': ['SimHei'],          #使中文正常显示\n",
    "    'axes.labelsize': 10})          \n",
    "plt.rcParams['axes.unicode_minus'] = False   #用来正常显示负号"
   ]
  }
 ],
 "metadata": {
  "kernelspec": {
   "display_name": "Python 3.10.0 64-bit",
   "language": "python",
   "name": "python3"
  },
  "language_info": {
   "name": "python",
   "version": "3.10.0"
  },
  "orig_nbformat": 4,
  "vscode": {
   "interpreter": {
    "hash": "0c2aa4e111be9f97874af055427fdbfdb1a594a6a2dc65ed2b2d4437de81f5e8"
   }
  }
 },
 "nbformat": 4,
 "nbformat_minor": 2
}
