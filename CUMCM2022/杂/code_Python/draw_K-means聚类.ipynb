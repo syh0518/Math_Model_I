{
 "cells": [
  {
   "cell_type": "code",
   "execution_count": null,
   "metadata": {},
   "outputs": [],
   "source": [
    "# -*- coding: utf-8 -*- \n",
    "import numpy as np\n",
    "import pandas as pd\n",
    "import matplotlib.pyplot as plt\n",
    "import matplotlib as mpl\n",
    "import seaborn as sn\n",
    "from sklearn.cluster import KMeans\n",
    "from scipy.spatial.distance import cdist\n",
    "from sklearn.metrics import calinski_harabasz_score, silhouette_samples, silhouette_score\n",
    "from sklearn.preprocessing import StandardScaler,scale\n",
    "from sklearn.decomposition import PCA\n",
    "# 绘图\n",
    "plt.rcParams['font.sans-serif']=['SimHei']  #用来显示中文标签\n",
    "plt.rcParams['axes.unicode_minus']=False    #用来正常显示负号"
   ]
  },
  {
   "cell_type": "code",
   "execution_count": null,
   "metadata": {},
   "outputs": [],
   "source": [
    "# 确定K值 量纲不一致需要对X首先标准化\n",
    "scaler = StandardScaler()\n",
    "pca = PCA()\n",
    "X_new = scaler.fit_transform(X)\n",
    "cost = []\n",
    "for i in range(1,11):#尝试不同的K值\n",
    "    kmeans = KMeans(n_clusters= i ,init='k-means++', random_state = 0)\n",
    "    kmeans.fit(X_new)\n",
    "    cost.append(kmeans.inertia_)#inerita_是我们选择的方法，其作用相当于损失函数\n",
    "\n",
    "fig, ax = plt.subplots()\n",
    "plt.plot(range(1,11), cost)\n",
    "ax.set_title('The Elbow Method')\n",
    "ax.set_ylabel('Cost')"
   ]
  },
  {
   "cell_type": "code",
   "execution_count": null,
   "metadata": {},
   "outputs": [],
   "source": [
    "# 聚类\n",
    "kmeans = KMeans(n_clusters=4)\n",
    "kmeans.fit(data.iloc[:,])\n",
    "\n",
    "label_pre = kmeans.labels_\n",
    "x0 = data[label_pre == 0]\n",
    "x1 = data[label_pre == 1]\n",
    "x2 = data[label_pre == 2]\n",
    "x3 = data[label_pre == 3]"
   ]
  },
  {
   "cell_type": "code",
   "execution_count": null,
   "metadata": {},
   "outputs": [],
   "source": [
    "# 聚类折线图\n",
    "plt.plot(x1.index.values, x1['总分'].values, marker='D', linewidth=3, color='#454D66', label='第1类')\n",
    "plt.plot(x0.index.values, x0['总分'].values, marker='D', linewidth=3, color='#309975', label='第2类')\n",
    "plt.plot(x2.index.values, x2['总分'].values, marker='D', linewidth=3, color='#DAD873', label='第3类')\n",
    "plt.plot(x3.index.values, x3['总分'].values, marker='D', linewidth=3, color='#de1c31', label='第4类')\n",
    "plt.legend()"
   ]
  }
 ],
 "metadata": {
  "kernelspec": {
   "display_name": "Python 3.10.0 64-bit",
   "language": "python",
   "name": "python3"
  },
  "language_info": {
   "name": "python",
   "version": "3.10.0"
  },
  "orig_nbformat": 4,
  "vscode": {
   "interpreter": {
    "hash": "0c2aa4e111be9f97874af055427fdbfdb1a594a6a2dc65ed2b2d4437de81f5e8"
   }
  }
 },
 "nbformat": 4,
 "nbformat_minor": 2
}
