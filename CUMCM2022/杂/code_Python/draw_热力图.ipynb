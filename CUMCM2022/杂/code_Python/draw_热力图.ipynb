{
 "cells": [
  {
   "cell_type": "code",
   "execution_count": null,
   "metadata": {},
   "outputs": [],
   "source": [
    "# -*- coding: utf-8 -*- \n",
    "import numpy as np\n",
    "import pandas as pd\n",
    "import matplotlib.pyplot as plt\n",
    "import matplotlib as mpl\n",
    "from scipy.interpolate import Rbf\n",
    "import seaborn as sn"
   ]
  },
  {
   "cell_type": "code",
   "execution_count": null,
   "metadata": {},
   "outputs": [],
   "source": [
    "# 绘图\n",
    "mpl.rcParams.update(\n",
    "    {'font.family': 'sans-serif',            #设置字体样式\n",
    "    'font.size':16,\n",
    "    'font.sans-serif': ['SimHei'],          #使中文正常显示\n",
    "    'axes.labelsize': 10})          \n",
    "plt.rcParams['axes.unicode_minus'] = False   #用来正常显示负号\n",
    "\n",
    "corr = data.corr()\n",
    "plt.figure(figsize=(10,7))\n",
    "sn.heatmap(corr, annot=True, vmin=-1, square=True)\n",
    "#  annot=True,square=True,vmin=-1,vmax=1, cbar=True, cbar_kws={'shrink': 0.5} 可适当修改sn.heatmap()中的参数"
   ]
  }
 ],
 "metadata": {
  "kernelspec": {
   "display_name": "Python 3.10.0 64-bit",
   "language": "python",
   "name": "python3"
  },
  "language_info": {
   "name": "python",
   "version": "3.10.0"
  },
  "orig_nbformat": 4,
  "vscode": {
   "interpreter": {
    "hash": "0c2aa4e111be9f97874af055427fdbfdb1a594a6a2dc65ed2b2d4437de81f5e8"
   }
  }
 },
 "nbformat": 4,
 "nbformat_minor": 2
}
